{
  "nbformat": 4,
  "nbformat_minor": 0,
  "metadata": {
    "colab": {
      "name": "HateSpeechUsingBert.ipynb",
      "provenance": [],
      "collapsed_sections": [],
      "authorship_tag": "ABX9TyObTmogzEmMAYrD/+qvvR2b",
      "include_colab_link": true
    },
    "kernelspec": {
      "name": "python3",
      "display_name": "Python 3"
    },
    "language_info": {
      "name": "python"
    },
    "accelerator": "GPU"
  },
  "cells": [
    {
      "cell_type": "markdown",
      "metadata": {
        "id": "view-in-github",
        "colab_type": "text"
      },
      "source": [
        "<a href=\"https://colab.research.google.com/github/AminHasibul/Conspiracy_Againtst_Covid_Vaccines_detection/blob/main/Data_analysis_using_BERT.ipynb\" target=\"_parent\"><img src=\"https://colab.research.google.com/assets/colab-badge.svg\" alt=\"Open In Colab\"/></a>"
      ]
    },
    {
      "cell_type": "code",
      "execution_count": null,
      "metadata": {
        "id": "i1-8A-JliBsz"
      },
      "outputs": [],
      "source": [
        "!pip install tensorflow-gpu==1.15.0\n"
      ]
    },
    {
      "cell_type": "code",
      "source": [],
      "metadata": {
        "id": "IbtTsLv6mYGT"
      },
      "execution_count": null,
      "outputs": []
    },
    {
      "cell_type": "code",
      "source": [
        "!pip3 install -U bert-serving-server[http]"
      ],
      "metadata": {
        "id": "re7t1fwGizMr"
      },
      "execution_count": null,
      "outputs": []
    },
    {
      "cell_type": "code",
      "source": [
        "!wget https://storage.googleapis.com/bert_models/2018_10_18/uncased_L-12_H-768_A-12.zip "
      ],
      "metadata": {
        "id": "8GxuIOgqi88z"
      },
      "execution_count": null,
      "outputs": []
    },
    {
      "cell_type": "code",
      "source": [
        "!unzip uncased_L-12_H-768_A-12.zip"
      ],
      "metadata": {
        "id": "qMXqAST8jeY6"
      },
      "execution_count": null,
      "outputs": []
    },
    {
      "cell_type": "code",
      "source": [
        "!pip3 install -U bert-serving-client"
      ],
      "metadata": {
        "id": "V9HUGEEnjobd"
      },
      "execution_count": null,
      "outputs": []
    },
    {
      "cell_type": "code",
      "source": [
        "!bert-serving-start -max_seq_len=128 -port 9907 -port_out 9908 -model_dir uncased_L-12_H-768_A-12 "
      ],
      "metadata": {
        "id": "acbmtRTVjv32"
      },
      "execution_count": null,
      "outputs": []
    },
    {
      "cell_type": "code",
      "source": [
        "!pip3 install bert-serving-client"
      ],
      "metadata": {
        "colab": {
          "base_uri": "https://localhost:8080/"
        },
        "id": "g3T7WA7MmZtH",
        "outputId": "6e41c99b-4400-4f98-c1b6-a44861444e0c"
      },
      "execution_count": null,
      "outputs": [
        {
          "output_type": "stream",
          "name": "stdout",
          "text": [
            "Requirement already satisfied: bert-serving-client in /usr/local/lib/python3.7/dist-packages (1.10.0)\n",
            "Requirement already satisfied: pyzmq>=17.1.0 in /usr/local/lib/python3.7/dist-packages (from bert-serving-client) (22.3.0)\n",
            "Requirement already satisfied: numpy in /usr/local/lib/python3.7/dist-packages (from bert-serving-client) (1.21.6)\n"
          ]
        }
      ]
    },
    {
      "cell_type": "code",
      "source": [
        "from bert_serving.client import BertClient\n"
      ],
      "metadata": {
        "id": "K8pfWpodmnA8"
      },
      "execution_count": null,
      "outputs": []
    },
    {
      "cell_type": "code",
      "source": [
        "bc = BertClient()"
      ],
      "metadata": {
        "id": "Rs28uwuLmpGI"
      },
      "execution_count": null,
      "outputs": []
    },
    {
      "cell_type": "code",
      "source": [
        "from nltk.tokenize import word_tokenize\n",
        "from numpy import savetxt\n",
        "from gensim.models import KeyedVectors\n",
        "import nltk\n",
        "#from nltk.corpus import stopwords\n",
        "nltk.download('stopwords')\n",
        "nltk.download('punkt')\n",
        "from nltk.stem.porter import PorterStemmer\n",
        "import nltk\n",
        "import pandas as pd\n",
        "import numpy as np\n",
        "from nltk.stem import PorterStemmer\n",
        "from nltk.corpus import stopwords\n",
        "from sklearn.model_selection import KFold\n",
        "from sklearn.linear_model import LogisticRegression\n",
        "from sklearn.neighbors import KNeighborsClassifier\n",
        "from sklearn.svm import SVC\n",
        "from sklearn.ensemble import RandomForestClassifier\n",
        "from sklearn.naive_bayes import GaussianNB\n",
        "from xgboost import XGBClassifier\n",
        "from sklearn import model_selection\n",
        "from sklearn.utils import class_weight\n",
        "from sklearn.metrics import classification_report\n",
        "from sklearn.metrics import confusion_matrix\n",
        "from sklearn import svm\n",
        "from sklearn.metrics import recall_score\n",
        "from sklearn.metrics import precision_score\n",
        "from sklearn.metrics import f1_score\n",
        "from sklearn.metrics import accuracy_score\n",
        "from sklearn.metrics import roc_auc_score\n",
        "\n",
        "\n",
        "# If not previously performed:\n",
        "# nltk.download('stopwords')\n",
        "\n",
        "stemming = PorterStemmer()\n",
        "stops = set(stopwords.words(\"english\"))\n",
        "def apply_cleaning_function_to_list(X):\n",
        "    cleaned_X = []\n",
        "    for element in X:\n",
        "        cleaned_X.append(clean_text(element))\n",
        "    return cleaned_X\n",
        "\n",
        "\n",
        "def clean_text(raw_text):\n",
        "    \"\"\"This function works on a raw text string, and:\n",
        "        1) changes to lower case\n",
        "        2) tokenizes (breaks down into words\n",
        "        3) removes punctuation and non-word text\n",
        "        4) finds word stems\n",
        "        5) removes stop words\n",
        "        6) rejoins meaningful stem words\"\"\"\n",
        "    \n",
        "    # Convert to lower case\n",
        "    text = raw_text.lower()\n",
        "    \n",
        "    # Tokenize\n",
        "    tokens = nltk.word_tokenize(text)\n",
        "    \n",
        "    # Keep only words (removes punctuation + numbers)\n",
        "    # use .isalnum to keep also numbers\n",
        "    token_words = [w for w in tokens if w.isalpha()]\n",
        "    \n",
        "    # Stemming\n",
        "    stemmed_words = [stemming.stem(w) for w in token_words]\n",
        "    \n",
        "    # Remove stop words\n",
        "    meaningful_words = [w for w in stemmed_words if not w in stops]\n",
        "    \n",
        "    # Rejoin meaningful stemmed words\n",
        "    joined_words = ( \" \".join(meaningful_words))\n",
        "    \n",
        "    # Return cleaned data\n",
        "    return joined_words\n",
        "\n",
        "\n",
        "datas=pd.read_csv('raw_data-bert.csv')\n",
        "dataf=list(datas['tweet'])\n",
        "y=list(datas['hate_speech'])\n",
        "y = np.array(y).astype(int)\n",
        "#print(dataf[420])\n",
        "\n",
        "# Get text to clean\n",
        "text_to_clean = dataf\n",
        "# Clean text\n",
        "cleaned_text = apply_cleaning_function_to_list(text_to_clean)\n",
        "\n",
        "\n",
        "text=cleaned_text\n",
        "print(\"Hello\")\n",
        "print(text)\n",
        "X=[]\n",
        "for j in range(0,len(text)):\n",
        "     #print(j)\n",
        "     tokens = word_tokenize(text[j])\n",
        "     words = [word for word in tokens if word.isalpha()]\n",
        "\n",
        "     \n",
        "\n",
        "     \n",
        "     sum=0\n",
        "     for i in range(0,len(words)):\n",
        "        try:\n",
        "           sum=sum+bc.encode([words[i]])\n",
        "      \n",
        "        except:\n",
        "           k=0\n",
        "     X.append(sum)\n",
        "\n",
        "\n",
        "X = np.array(X).astype(float)\n",
        "X=np.reshape(X,(len(X),768))\n",
        "savetxt('BERT-Score.csv', X, delimiter=',')\n",
        "print(X.shape)\n",
        "kf=KFold(n_splits=10, random_state=None, shuffle=True)\n",
        "\n",
        "acc=[]\n",
        "prec=[]\n",
        "reca=[]\n",
        "f=[]\n",
        "\n",
        "for train_index, test_index in kf.split(X):\n",
        "        \n",
        "        #print(\"TRAIN:\", train_index, \"TEST:\", test_index)\n",
        "        X_train, X_test = X[train_index], X[test_index]\n",
        "        y_train, y_test = y[train_index], y[test_index]\n",
        "        #print(y_train)\n",
        "        clf= LogisticRegression(C = 100,random_state = 0)\n",
        "        clf.fit(X_train, y_train)\n",
        "        # clf= XGBClassifier()\n",
        "        # clf.fit(X_train, y_train)\n",
        "        \n",
        "        # clf= KNeighborsClassifier()\n",
        "        # clf.fit(X_train, y_train)\n",
        "        \n",
        "        # clf= SVC()\n",
        "        # clf.fit(X_train, y_train)\n",
        "        \n",
        "        # clf= GaussianNB()\n",
        "        # clf.fit(X_train, y_train)\n",
        "\n",
        "        y_pred = clf.predict( X_test)\n",
        "        acc.append(accuracy_score(y_test,  y_pred))\n",
        "        reca.append(recall_score(y_test,  y_pred))\n",
        "        prec.append(precision_score(y_test,  y_pred))\n",
        "        f.append(f1_score(y_test,  y_pred))\n",
        "        \n",
        "        \n",
        "print(\"accuracy : \"+ str(np.mean(acc)))\n",
        "print(\"recall : \"+ str(np.mean(reca)))\n",
        "print(\"precision : \"+ str(np.mean(prec)))\n",
        "print(\"f1 score : \" + str(np.mean(f)))\n"
      ],
      "metadata": {
        "id": "5w5WrwrYmp-V"
      },
      "execution_count": null,
      "outputs": []
    }
  ]
}